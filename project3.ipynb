{
 "cells": [
  {
   "cell_type": "code",
   "execution_count": 1,
   "metadata": {},
   "outputs": [],
   "source": [
    "import pandas as pd\n",
    "import matplotlib.pyplot as plt\n",
    "import numpy as np\n",
    "import seaborn as sns\n",
    "from scipy import stats\n",
    "from bs4 import BeautifulSoup\n",
    "import requests\n",
    "import re"
   ]
  },
  {
   "cell_type": "code",
   "execution_count": 2,
   "metadata": {},
   "outputs": [],
   "source": [
    "\n",
    "# Request the raw html from the webpage\n",
    "# html = requests.get('https://www.rottentomatoes.com/top/bestofrt/top_100_action__adventure_movies/')\n",
    "html = requests.get('https://www.transfermarkt.co.uk/statistik/wintertransfers', headers={'User-Agent': 'Custom'})\n",
    "# html = requests.get('https://www.transfermarkt.co.uk/statistik/wintertransfers?ajax=yw1&page=2', headers={'User-Agent': 'Custom'})\n",
    "\n",
    "# Build a tree, or nested data structure, from the webpage\n",
    "soup = BeautifulSoup(html.text, 'html5lib')"
   ]
  },
  {
   "cell_type": "code",
   "execution_count": 3,
   "metadata": {},
   "outputs": [],
   "source": [
    "\n",
    "# Try to get links of top movies\n",
    "# soup('a', {'class':'unstyled articleLink'})\n",
    "# Hmm, got a lot more than that\n",
    "\n",
    "# Get all the tables in the html document\n",
    "# tables = soup('table', {'class':'table'})\n",
    "tables = soup('table', {'class':'items'})\n",
    "\n",
    "table = tables[0]\n",
    "# links = table('a', {'class':'unstyled articleLink'})\n",
    "nameLinks = table('a', {'class':'spielprofil_tooltip'})\n",
    "# marketValueRows = table('td', {'class':'rechts bg_gruen_20','class':'rechts'})\n",
    "marketValueRows = table('td', {'class':'rechts bg_gruen_20','class':'rechts'})\n",
    "ageRows = table('td', {'class': 'zentriert'})\n",
    "\n",
    "# feeRows = table('td', {'class': 'rechts hauptlink'})"
   ]
  },
  {
   "cell_type": "code",
   "execution_count": 4,
   "metadata": {},
   "outputs": [],
   "source": [
    "ages =[age.text for age in ageRows]\n",
    "age = ages[1::3]"
   ]
  },
  {
   "cell_type": "code",
   "execution_count": 5,
   "metadata": {},
   "outputs": [],
   "source": [
    "names = [nameLink.text for nameLink in nameLinks]\n",
    "marketValues = [marketvalue.text for marketvalue in marketValueRows]\n",
    "# print(len(names))\n",
    "# print(len(marketValues))\n",
    "npvalues = np.array(marketValues)\n",
    "dataframe = pd.DataFrame(npvalues.reshape(25,2))\n",
    "df = pd.DataFrame(names, columns=['name'])\n",
    "df['age'] = age\n",
    "df['value'] = dataframe[0]\n",
    "df['fee'] = dataframe[1]\n",
    "df['value'] = dataframe[0]\n",
    "df['fee'] = dataframe[1]\n",
    "# df"
   ]
  },
  {
   "cell_type": "code",
   "execution_count": 6,
   "metadata": {},
   "outputs": [],
   "source": [
    "df['fee'] = df['fee'].str.replace('Loan fee:', '')\n",
    "df['fee'] = df['fee'].str.replace('£900k', '.9')\n",
    "df['fee'] = df['fee'].str.replace('Loan', '0')\n",
    "df['fee'] = df['fee'].str.replace('£', '')\n",
    "df['fee'] = df['fee'].str.replace('m', '').astype('float')\n",
    "df['value']=df['value'].str.replace('£', '')\n",
    "df['value'] = df['value'].str.replace('m', '').astype('float')\n",
    "df1 = df.copy()"
   ]
  },
  {
   "cell_type": "code",
   "execution_count": 7,
   "metadata": {},
   "outputs": [],
   "source": [
    "html = requests.get('https://www.transfermarkt.co.uk/statistik/wintertransfers?ajax=yw1&page=2', headers={'User-Agent': 'Custom'})\n",
    "soup = BeautifulSoup(html.text, 'html5lib')\n",
    "tables = soup('table', {'class':'items'})\n",
    "table = tables[0]\n",
    "nameLinks = table('a', {'class':'spielprofil_tooltip'})\n",
    "marketValueRows = table('td', {'class':'rechts bg_gruen_20','class':'rechts'})\n",
    "ageRows = table('td', {'class': 'zentriert'})\n",
    "ages =[age.text for age in ageRows]\n",
    "age = ages[1::3]\n",
    "\n",
    "names = [nameLink.text for nameLink in nameLinks]\n",
    "marketValues = [marketvalue.text for marketvalue in marketValueRows]\n",
    "npvalues = np.array(marketValues)\n",
    "dataframe = pd.DataFrame(npvalues.reshape(25,2))\n",
    "df = pd.DataFrame(names, columns=['name'])\n",
    "df['age'] = age\n",
    "\n",
    "df['value'] = dataframe[0]\n",
    "df['fee'] = dataframe[1]\n",
    "df['value'] = dataframe[0]\n",
    "df['fee'] = dataframe[1]\n",
    "df['fee'] = df['fee'].str.replace('Loan fee:', '')\n",
    "df['fee'] = df['fee'].str.replace('£900k', '.9')\n",
    "df['fee'] = df['fee'].str.replace('Loan', '0')\n",
    "df['fee'] = df['fee'].str.replace('£', '')\n",
    "df['fee'] = df['fee'].str.replace('m', '').astype('float')\n",
    "df['value']=df['value'].str.replace('£', '')\n",
    "df['value'] = df['value'].str.replace('m', '').astype('float')\n",
    "df2 = df.copy()"
   ]
  },
  {
   "cell_type": "code",
   "execution_count": 8,
   "metadata": {},
   "outputs": [],
   "source": [
    "html = requests.get('https://www.transfermarkt.co.uk/statistik/wintertransfers?ajax=yw1&page=3', headers={'User-Agent': 'Custom'})\n",
    "soup = BeautifulSoup(html.text, 'html5lib')\n",
    "tables = soup('table', {'class':'items'})\n",
    "table = tables[0]\n",
    "nameLinks = table('a', {'class':'spielprofil_tooltip'})\n",
    "marketValueRows = table('td', {'class':'rechts bg_gruen_20','class':'rechts'})\n",
    "ageRows = table('td', {'class': 'zentriert'})\n",
    "ages =[age.text for age in ageRows]\n",
    "age = ages[1::3]\n",
    "names = [nameLink.text for nameLink in nameLinks]\n",
    "marketValues = [marketvalue.text for marketvalue in marketValueRows]\n",
    "npvalues = np.array(marketValues)\n",
    "dataframe = pd.DataFrame(npvalues.reshape(25,2))\n",
    "df = pd.DataFrame(names, columns=['name'])\n",
    "df['age'] = age\n",
    "\n",
    "df['value'] = dataframe[0]\n",
    "df['fee'] = dataframe[1]\n",
    "df['value'] = dataframe[0]\n",
    "df['fee'] = dataframe[1]\n",
    "df['fee'] = df['fee'].str.replace('Loan fee:', '')\n",
    "df['fee'] = df['fee'].str.replace('£900k', '.9')\n",
    "df['fee'] = df['fee'].str.replace('Loan', '0')\n",
    "df['fee'] = df['fee'].str.replace('£', '')\n",
    "df['fee'] = df['fee'].str.replace('675k', '.675')\n",
    "df['fee'] = df['fee'].str.replace('400k', '.400')\n",
    "df['fee'] = df['fee'].str.replace('450k', '.450')\n",
    "\n",
    "df['fee'] = df['fee'].str.replace('Free transfer', '0')\n",
    "df['fee'] = df['fee'].str.replace('m', '').astype('float')\n",
    "df['value']=df['value'].str.replace('£', '')\n",
    "df['value'] = df['value'].str.replace('m', '').astype('float')\n",
    "df3 = df.copy()"
   ]
  },
  {
   "cell_type": "code",
   "execution_count": 9,
   "metadata": {},
   "outputs": [],
   "source": [
    "df_final = pd.concat([df1, df2, df3]).reset_index(drop=True)"
   ]
  },
  {
   "cell_type": "code",
   "execution_count": 10,
   "metadata": {},
   "outputs": [],
   "source": [
    "df_final['age'] = df_final['age'].astype('int')"
   ]
  },
  {
   "cell_type": "code",
   "execution_count": 11,
   "metadata": {},
   "outputs": [],
   "source": [
    "# get rid of the fee's that were zero due to loan\n",
    "df_final = df_final[df_final.fee > 0]"
   ]
  },
  {
   "cell_type": "code",
   "execution_count": 12,
   "metadata": {},
   "outputs": [
    {
     "data": {
      "text/plain": [
       "Text(0, 0.5, 'Transfer Fee (million pounds)')"
      ]
     },
     "execution_count": 12,
     "metadata": {},
     "output_type": "execute_result"
    },
    {
     "data": {
      "image/png": "[encoded data removed]",
      "text/plain": [
       "<Figure size 432x288 with 1 Axes>"
      ]
     },
     "metadata": {
      "needs_background": "light"
     },
     "output_type": "display_data"
    }
   ],
   "source": [
    "# we don't see as clear of a realtionship between player market value and tranfer fee\n",
    "# when we only use the top 25 transfers.\n",
    "# there may be other more important features of a player like their age, position, or when their \n",
    "# contract is up that is more related to their transfer fee.\n",
    "sns.scatterplot('value', 'fee', data=df_final)\n",
    "plt.title('Transfer Fee vs Market Value')\n",
    "plt.xlabel('Market Value (million pounds)')\n",
    "plt.ylabel('Transfer Fee (million pounds)')\n",
    "# sns.scatterplot(x='yearID', y='H', data=playerHits.sample(frac=0.1), s=8)"
   ]
  },
  {
   "cell_type": "code",
   "execution_count": 13,
   "metadata": {},
   "outputs": [
    {
     "data": {
      "text/plain": [
       "(0.42648929371078553, 0.001300776800659551)"
      ]
     },
     "execution_count": 13,
     "metadata": {},
     "output_type": "execute_result"
    }
   ],
   "source": [
    "# here we see that there is no real sign of a positive corelation with a p-value of .139\n",
    "# especially with \n",
    "stats.pearsonr(df_final.fee, df_final.value)\n"
   ]
  },
  {
   "cell_type": "code",
   "execution_count": 14,
   "metadata": {},
   "outputs": [
    {
     "data": {
      "text/plain": [
       "Text(0, 0.5, 'Transfer Fee (million pounds)')"
      ]
     },
     "execution_count": 14,
     "metadata": {},
     "output_type": "execute_result"
    },
    {
     "data": {
      "image/png": "[encoded data removed]",
      "text/plain": [
       "<Figure size 432x288 with 1 Axes>"
      ]
     },
     "metadata": {
      "needs_background": "light"
     },
     "output_type": "display_data"
    }
   ],
   "source": [
    "sns.scatterplot('age', 'fee', data=df_final)\n",
    "plt.title('Age vs Transfer Fee')\n",
    "plt.xlabel('Player age')\n",
    "plt.ylabel('Transfer Fee (million pounds)')"
   ]
  },
  {
   "cell_type": "code",
   "execution_count": 15,
   "metadata": {},
   "outputs": [
    {
     "data": {
      "text/plain": [
       "Text(0, 0.5, 'Market Value (million pounds)')"
      ]
     },
     "execution_count": 15,
     "metadata": {},
     "output_type": "execute_result"
    },
    {
     "data": {
      "image/png": "[encoded data removed]",
      "text/plain": [
       "<Figure size 432x288 with 1 Axes>"
      ]
     },
     "metadata": {
      "needs_background": "light"
     },
     "output_type": "display_data"
    }
   ],
   "source": [
    "sns.scatterplot('age', 'value', data=df_final)\n",
    "plt.title('Age vs Market Value')\n",
    "plt.xlabel('Player age')\n",
    "plt.ylabel('Market Value (million pounds)')"
   ]
  },
  {
   "cell_type": "code",
   "execution_count": 16,
   "metadata": {},
   "outputs": [
    {
     "data": {
      "text/plain": [
       "Text(0.5, 0, 'Fee')"
      ]
     },
     "execution_count": 16,
     "metadata": {},
     "output_type": "execute_result"
    },
    {
     "data": {
      "image/png": "[encoded data removed]",
      "text/plain": [
       "<Figure size 432x288 with 1 Axes>"
      ]
     },
     "metadata": {
      "needs_background": "light"
     },
     "output_type": "display_data"
    }
   ],
   "source": [
    "sns.distplot(df_final.fee)\n",
    "plt.title('Distribution of Transfer Fee (millions)')\n",
    "plt.xlabel('Fee')"
   ]
  },
  {
   "cell_type": "code",
   "execution_count": 17,
   "metadata": {},
   "outputs": [
    {
     "data": {
      "text/plain": [
       "Text(0.5, 0, 'Player Market Value')"
      ]
     },
     "execution_count": 17,
     "metadata": {},
     "output_type": "execute_result"
    },
    {
     "data": {
      "image/png": "[encoded data removed]",
      "text/plain": [
       "<Figure size 432x288 with 1 Axes>"
      ]
     },
     "metadata": {
      "needs_background": "light"
     },
     "output_type": "display_data"
    }
   ],
   "source": [
    "sns.distplot(df_final.value)\n",
    "plt.title('Distribution of Market Value (millions)')\n",
    "plt.xlabel('Player Market Value')"
   ]
  },
  {
   "cell_type": "code",
   "execution_count": 18,
   "metadata": {},
   "outputs": [
    {
     "data": {
      "text/plain": [
       "17.675"
      ]
     },
     "metadata": {},
     "output_type": "display_data"
    },
    {
     "data": {
      "text/plain": [
       "12.914259259259257"
      ]
     },
     "metadata": {},
     "output_type": "display_data"
    },
    {
     "data": {
      "text/plain": [
       "Ttest_indResult(statistic=2.1379903060307424, pvalue=0.034815411920796215)"
      ]
     },
     "execution_count": 18,
     "metadata": {},
     "output_type": "execute_result"
    }
   ],
   "source": [
    "display(df_final.value.mean())\n",
    "display(df_final.fee.mean())\n",
    "\n",
    "stats.ttest_ind(df_final.value, df_final.fee)\n",
    "# stats.ttest_ind(df[df.State == 'MI'].Score, df[df.State == 'CA'].Score)"
   ]
  },
  {
   "cell_type": "code",
   "execution_count": 19,
   "metadata": {},
   "outputs": [],
   "source": [
    "groupedByAge = df_final.groupby('age')\n"
   ]
  },
  {
   "cell_type": "code",
   "execution_count": 20,
   "metadata": {},
   "outputs": [
    {
     "data": {
      "text/html": [
       "<div>\n",
       "<style scoped>\n",
       "    .dataframe tbody tr th:only-of-type {\n",
       "        vertical-align: middle;\n",
       "    }\n",
       "\n",
       "    .dataframe tbody tr th {\n",
       "        vertical-align: top;\n",
       "    }\n",
       "\n",
       "    .dataframe thead tr th {\n",
       "        text-align: left;\n",
       "    }\n",
       "\n",
       "    .dataframe thead tr:last-of-type th {\n",
       "        text-align: right;\n",
       "    }\n",
       "</style>\n",
       "<table border=\"1\" class=\"dataframe\">\n",
       "  <thead>\n",
       "    <tr>\n",
       "      <th></th>\n",
       "      <th colspan=\"3\" halign=\"left\">value</th>\n",
       "      <th colspan=\"3\" halign=\"left\">fee</th>\n",
       "    </tr>\n",
       "    <tr>\n",
       "      <th></th>\n",
       "      <th>size</th>\n",
       "      <th>mean</th>\n",
       "      <th>std</th>\n",
       "      <th>size</th>\n",
       "      <th>mean</th>\n",
       "      <th>std</th>\n",
       "    </tr>\n",
       "    <tr>\n",
       "      <th>age</th>\n",
       "      <th></th>\n",
       "      <th></th>\n",
       "      <th></th>\n",
       "      <th></th>\n",
       "      <th></th>\n",
       "      <th></th>\n",
       "    </tr>\n",
       "  </thead>\n",
       "  <tbody>\n",
       "    <tr>\n",
       "      <th>18</th>\n",
       "      <td>3</td>\n",
       "      <td>15.90000</td>\n",
       "      <td>7.863205</td>\n",
       "      <td>3</td>\n",
       "      <td>13.200000</td>\n",
       "      <td>12.252347</td>\n",
       "    </tr>\n",
       "    <tr>\n",
       "      <th>19</th>\n",
       "      <td>3</td>\n",
       "      <td>23.40000</td>\n",
       "      <td>16.668233</td>\n",
       "      <td>3</td>\n",
       "      <td>19.860000</td>\n",
       "      <td>10.830457</td>\n",
       "    </tr>\n",
       "    <tr>\n",
       "      <th>20</th>\n",
       "      <td>2</td>\n",
       "      <td>12.15000</td>\n",
       "      <td>0.636396</td>\n",
       "      <td>2</td>\n",
       "      <td>16.200000</td>\n",
       "      <td>0.000000</td>\n",
       "    </tr>\n",
       "    <tr>\n",
       "      <th>21</th>\n",
       "      <td>8</td>\n",
       "      <td>14.56875</td>\n",
       "      <td>9.396083</td>\n",
       "      <td>8</td>\n",
       "      <td>11.868750</td>\n",
       "      <td>6.891814</td>\n",
       "    </tr>\n",
       "    <tr>\n",
       "      <th>22</th>\n",
       "      <td>8</td>\n",
       "      <td>15.97500</td>\n",
       "      <td>7.402075</td>\n",
       "      <td>8</td>\n",
       "      <td>12.459375</td>\n",
       "      <td>10.336671</td>\n",
       "    </tr>\n",
       "    <tr>\n",
       "      <th>23</th>\n",
       "      <td>5</td>\n",
       "      <td>13.14000</td>\n",
       "      <td>5.422453</td>\n",
       "      <td>5</td>\n",
       "      <td>12.646000</td>\n",
       "      <td>7.441588</td>\n",
       "    </tr>\n",
       "    <tr>\n",
       "      <th>24</th>\n",
       "      <td>5</td>\n",
       "      <td>14.94000</td>\n",
       "      <td>10.564942</td>\n",
       "      <td>5</td>\n",
       "      <td>16.308000</td>\n",
       "      <td>3.470781</td>\n",
       "    </tr>\n",
       "    <tr>\n",
       "      <th>25</th>\n",
       "      <td>6</td>\n",
       "      <td>18.52500</td>\n",
       "      <td>17.888090</td>\n",
       "      <td>6</td>\n",
       "      <td>18.300000</td>\n",
       "      <td>16.264040</td>\n",
       "    </tr>\n",
       "    <tr>\n",
       "      <th>26</th>\n",
       "      <td>4</td>\n",
       "      <td>24.75000</td>\n",
       "      <td>11.883181</td>\n",
       "      <td>4</td>\n",
       "      <td>8.617500</td>\n",
       "      <td>9.130565</td>\n",
       "    </tr>\n",
       "    <tr>\n",
       "      <th>27</th>\n",
       "      <td>5</td>\n",
       "      <td>24.75000</td>\n",
       "      <td>31.605893</td>\n",
       "      <td>5</td>\n",
       "      <td>10.530000</td>\n",
       "      <td>5.126841</td>\n",
       "    </tr>\n",
       "    <tr>\n",
       "      <th>28</th>\n",
       "      <td>3</td>\n",
       "      <td>21.60000</td>\n",
       "      <td>16.668233</td>\n",
       "      <td>3</td>\n",
       "      <td>7.425000</td>\n",
       "      <td>5.845671</td>\n",
       "    </tr>\n",
       "    <tr>\n",
       "      <th>29</th>\n",
       "      <td>2</td>\n",
       "      <td>14.40000</td>\n",
       "      <td>5.091169</td>\n",
       "      <td>2</td>\n",
       "      <td>3.600000</td>\n",
       "      <td>2.545584</td>\n",
       "    </tr>\n",
       "  </tbody>\n",
       "</table>\n",
       "</div>"
      ],
      "text/plain": [
       "    value                       fee                      \n",
       "     size      mean        std size       mean        std\n",
       "age                                                      \n",
       "18      3  15.90000   7.863205    3  13.200000  12.252347\n",
       "19      3  23.40000  16.668233    3  19.860000  10.830457\n",
       "20      2  12.15000   0.636396    2  16.200000   0.000000\n",
       "21      8  14.56875   9.396083    8  11.868750   6.891814\n",
       "22      8  15.97500   7.402075    8  12.459375  10.336671\n",
       "23      5  13.14000   5.422453    5  12.646000   7.441588\n",
       "24      5  14.94000  10.564942    5  16.308000   3.470781\n",
       "25      6  18.52500  17.888090    6  18.300000  16.264040\n",
       "26      4  24.75000  11.883181    4   8.617500   9.130565\n",
       "27      5  24.75000  31.605893    5  10.530000   5.126841\n",
       "28      3  21.60000  16.668233    3   7.425000   5.845671\n",
       "29      2  14.40000   5.091169    2   3.600000   2.545584"
      ]
     },
     "execution_count": 20,
     "metadata": {},
     "output_type": "execute_result"
    }
   ],
   "source": [
    "groupedByAge.agg([ 'size','mean','std'])"
   ]
  },
  {
   "cell_type": "code",
   "execution_count": 21,
   "metadata": {},
   "outputs": [],
   "source": [
    "oldPpl = df_final[df_final.age >= 25]\n",
    "youngPpl = df_final[df_final.age < 25]"
   ]
  },
  {
   "cell_type": "code",
   "execution_count": 22,
   "metadata": {},
   "outputs": [
    {
     "data": {
      "text/plain": [
       "11.319750000000003"
      ]
     },
     "metadata": {},
     "output_type": "display_data"
    },
    {
     "data": {
      "text/plain": [
       "10.862841597196816"
      ]
     },
     "metadata": {},
     "output_type": "display_data"
    },
    {
     "data": {
      "text/plain": [
       "13.852205882352942"
      ]
     },
     "metadata": {},
     "output_type": "display_data"
    },
    {
     "data": {
      "text/plain": [
       "7.958113754658548"
      ]
     },
     "metadata": {},
     "output_type": "display_data"
    }
   ],
   "source": [
    "display(oldPpl.fee.mean())\n",
    "display(oldPpl.fee.std())\n",
    "display(youngPpl.fee.mean())\n",
    "display(youngPpl.fee.std())"
   ]
  },
  {
   "cell_type": "code",
   "execution_count": 23,
   "metadata": {},
   "outputs": [
    {
     "data": {
      "text/plain": [
       "Text(0.5, 0, 'Player Fee')"
      ]
     },
     "execution_count": 23,
     "metadata": {},
     "output_type": "execute_result"
    },
    {
     "data": {
      "image/png": "[encoded data removed]",
      "text/plain": [
       "<Figure size 432x288 with 1 Axes>"
      ]
     },
     "metadata": {
      "needs_background": "light"
     },
     "output_type": "display_data"
    }
   ],
   "source": [
    "sns.distplot(oldPpl.fee)\n",
    "plt.title('Older players fee distr.')\n",
    "plt.xlabel('Player Fee')"
   ]
  },
  {
   "cell_type": "code",
   "execution_count": 24,
   "metadata": {},
   "outputs": [
    {
     "data": {
      "text/plain": [
       "Text(0.5, 0, 'Player Fee')"
      ]
     },
     "execution_count": 24,
     "metadata": {},
     "output_type": "execute_result"
    },
    {
     "data": {
      "image/png": "[encoded data removed]",
      "text/plain": [
       "<Figure size 432x288 with 1 Axes>"
      ]
     },
     "metadata": {
      "needs_background": "light"
     },
     "output_type": "display_data"
    }
   ],
   "source": [
    "sns.distplot(youngPpl.fee)\n",
    "plt.title('Young players fee distr.')\n",
    "plt.xlabel('Player Fee')"
   ]
  },
  {
   "cell_type": "code",
   "execution_count": 25,
   "metadata": {},
   "outputs": [
    {
     "data": {
      "text/plain": [
       "Ttest_indResult(statistic=0.9845971119855146, pvalue=0.3293812096270231)"
      ]
     },
     "execution_count": 25,
     "metadata": {},
     "output_type": "execute_result"
    }
   ],
   "source": [
    "stats.ttest_ind(youngPpl.fee, oldPpl.fee)"
   ]
  },
  {
   "cell_type": "markdown",
   "metadata": {},
   "source": [
    "# Using the requests package to scrape soccer news articles for player names"
   ]
  },
  {
   "cell_type": "markdown",
   "metadata": {},
   "source": [
    "## Popular soccer news sites (transfer rumors pages)"
   ]
  },
  {
   "cell_type": "code",
   "execution_count": 26,
   "metadata": {},
   "outputs": [
    {
     "data": {
      "text/plain": [
       "b'<!doctype html public \"\">\\n<html lang=\"en\" class=\"no-js\">\\n<head>\\n    <title>Transfer Centre - Football Transfers News & Rumours  '"
      ]
     },
     "execution_count": 26,
     "metadata": {},
     "output_type": "execute_result"
    }
   ],
   "source": [
    "urls = {\n",
    "    'SkySports':'https://www.skysports.com/football/transfer-news',\n",
    "    'OneFootball':'https://en.onefootball.com/tag/transfer-window/',\n",
    "    '90min':'https://www.90min.com/categories/transfer?view_source=nav_bar&viewmedium=nav_bar_channels.name.transfer',\n",
    "    'newsnow':'https://www.newsnow.co.uk/h/Sport/Football/Transfer+Talk/Top+Sources',\n",
    "    'talksport':'https://talksport.com/football/transfer-rumours/',\n",
    "    'sbnation':'https://www.sbnation.com/transfer-rumors'\n",
    "}\n",
    "\n",
    "sites = [requests.get(url) for url in urls.values()]\n",
    "list(sites[0])[0]"
   ]
  },
  {
   "cell_type": "markdown",
   "metadata": {},
   "source": [
    "### Read in and clean data:\n",
    "    generate list to be used for scraping"
   ]
  },
  {
   "cell_type": "code",
   "execution_count": 27,
   "metadata": {
    "scrolled": false
   },
   "outputs": [
    {
     "name": "stdout",
     "output_type": "stream",
     "text": [
      "11631\n"
     ]
    }
   ],
   "source": [
    "df_players = pd.read_csv('SoccerPlayerData.csv')\n",
    "# df_players.head()\n",
    "# df_names = df_players['Name']\n",
    "df_names = df_players['Name'].str.split(pat=' ',expand=True)\n",
    "df_names = df_names[(df_names[1] != False)]\n",
    "df_names = df_names[1]\n",
    "df_names = df_names.drop_duplicates()\n",
    "# df_names = df_players['Name']\n",
    "players = df_names.values.tolist()\n",
    "players = [i for i in players if i]\n",
    "\n",
    "print(len(players))"
   ]
  },
  {
   "cell_type": "markdown",
   "metadata": {},
   "source": [
    "## Scrape the news sites for occurences of player names"
   ]
  },
  {
   "cell_type": "code",
   "execution_count": 28,
   "metadata": {},
   "outputs": [
    {
     "data": {
      "text/html": [
       "<div>\n",
       "<style scoped>\n",
       "    .dataframe tbody tr th:only-of-type {\n",
       "        vertical-align: middle;\n",
       "    }\n",
       "\n",
       "    .dataframe tbody tr th {\n",
       "        vertical-align: top;\n",
       "    }\n",
       "\n",
       "    .dataframe thead th {\n",
       "        text-align: right;\n",
       "    }\n",
       "</style>\n",
       "<table border=\"1\" class=\"dataframe\">\n",
       "  <thead>\n",
       "    <tr style=\"text-align: right;\">\n",
       "      <th></th>\n",
       "      <th>Site</th>\n",
       "      <th>Ronaldo</th>\n",
       "      <th>Messi</th>\n",
       "      <th>Suárez</th>\n",
       "      <th>Neuer</th>\n",
       "      <th>Gea</th>\n",
       "      <th>Lewandowski</th>\n",
       "      <th>Bale</th>\n",
       "      <th>Ibrahimović</th>\n",
       "      <th>Courtois</th>\n",
       "      <th>...</th>\n",
       "      <th>Hornby</th>\n",
       "      <th>Sargeant</th>\n",
       "      <th>Alzate</th>\n",
       "      <th>Dalby</th>\n",
       "      <th>Clifton</th>\n",
       "      <th>McElhinney</th>\n",
       "      <th>Dunbar</th>\n",
       "      <th>McGoey</th>\n",
       "      <th>Ouldridge</th>\n",
       "      <th>Foden</th>\n",
       "    </tr>\n",
       "  </thead>\n",
       "  <tbody>\n",
       "    <tr>\n",
       "      <th>0</th>\n",
       "      <td>SkySports</td>\n",
       "      <td>0</td>\n",
       "      <td>0</td>\n",
       "      <td>0</td>\n",
       "      <td>0</td>\n",
       "      <td>0</td>\n",
       "      <td>0</td>\n",
       "      <td>3</td>\n",
       "      <td>0</td>\n",
       "      <td>0</td>\n",
       "      <td>...</td>\n",
       "      <td>0</td>\n",
       "      <td>0</td>\n",
       "      <td>0</td>\n",
       "      <td>0</td>\n",
       "      <td>0</td>\n",
       "      <td>0</td>\n",
       "      <td>0</td>\n",
       "      <td>0</td>\n",
       "      <td>0</td>\n",
       "      <td>0</td>\n",
       "    </tr>\n",
       "    <tr>\n",
       "      <th>1</th>\n",
       "      <td>OneFootball</td>\n",
       "      <td>0</td>\n",
       "      <td>0</td>\n",
       "      <td>0</td>\n",
       "      <td>0</td>\n",
       "      <td>0</td>\n",
       "      <td>0</td>\n",
       "      <td>0</td>\n",
       "      <td>0</td>\n",
       "      <td>0</td>\n",
       "      <td>...</td>\n",
       "      <td>0</td>\n",
       "      <td>0</td>\n",
       "      <td>0</td>\n",
       "      <td>0</td>\n",
       "      <td>0</td>\n",
       "      <td>0</td>\n",
       "      <td>0</td>\n",
       "      <td>0</td>\n",
       "      <td>0</td>\n",
       "      <td>0</td>\n",
       "    </tr>\n",
       "    <tr>\n",
       "      <th>2</th>\n",
       "      <td>90min</td>\n",
       "      <td>0</td>\n",
       "      <td>7</td>\n",
       "      <td>0</td>\n",
       "      <td>0</td>\n",
       "      <td>0</td>\n",
       "      <td>0</td>\n",
       "      <td>0</td>\n",
       "      <td>0</td>\n",
       "      <td>0</td>\n",
       "      <td>...</td>\n",
       "      <td>0</td>\n",
       "      <td>0</td>\n",
       "      <td>0</td>\n",
       "      <td>0</td>\n",
       "      <td>0</td>\n",
       "      <td>0</td>\n",
       "      <td>0</td>\n",
       "      <td>0</td>\n",
       "      <td>0</td>\n",
       "      <td>0</td>\n",
       "    </tr>\n",
       "    <tr>\n",
       "      <th>3</th>\n",
       "      <td>newsnow</td>\n",
       "      <td>0</td>\n",
       "      <td>1</td>\n",
       "      <td>0</td>\n",
       "      <td>0</td>\n",
       "      <td>0</td>\n",
       "      <td>0</td>\n",
       "      <td>1</td>\n",
       "      <td>0</td>\n",
       "      <td>0</td>\n",
       "      <td>...</td>\n",
       "      <td>0</td>\n",
       "      <td>0</td>\n",
       "      <td>0</td>\n",
       "      <td>0</td>\n",
       "      <td>0</td>\n",
       "      <td>0</td>\n",
       "      <td>0</td>\n",
       "      <td>0</td>\n",
       "      <td>0</td>\n",
       "      <td>0</td>\n",
       "    </tr>\n",
       "    <tr>\n",
       "      <th>4</th>\n",
       "      <td>talksport</td>\n",
       "      <td>0</td>\n",
       "      <td>1</td>\n",
       "      <td>0</td>\n",
       "      <td>0</td>\n",
       "      <td>0</td>\n",
       "      <td>0</td>\n",
       "      <td>2</td>\n",
       "      <td>0</td>\n",
       "      <td>0</td>\n",
       "      <td>...</td>\n",
       "      <td>0</td>\n",
       "      <td>0</td>\n",
       "      <td>0</td>\n",
       "      <td>0</td>\n",
       "      <td>0</td>\n",
       "      <td>0</td>\n",
       "      <td>0</td>\n",
       "      <td>0</td>\n",
       "      <td>0</td>\n",
       "      <td>0</td>\n",
       "    </tr>\n",
       "    <tr>\n",
       "      <th>5</th>\n",
       "      <td>sbnation</td>\n",
       "      <td>0</td>\n",
       "      <td>0</td>\n",
       "      <td>0</td>\n",
       "      <td>0</td>\n",
       "      <td>0</td>\n",
       "      <td>0</td>\n",
       "      <td>0</td>\n",
       "      <td>0</td>\n",
       "      <td>0</td>\n",
       "      <td>...</td>\n",
       "      <td>0</td>\n",
       "      <td>0</td>\n",
       "      <td>0</td>\n",
       "      <td>0</td>\n",
       "      <td>0</td>\n",
       "      <td>0</td>\n",
       "      <td>0</td>\n",
       "      <td>0</td>\n",
       "      <td>0</td>\n",
       "      <td>0</td>\n",
       "    </tr>\n",
       "  </tbody>\n",
       "</table>\n",
       "<p>6 rows × 11632 columns</p>\n",
       "</div>"
      ],
      "text/plain": [
       "          Site  Ronaldo  Messi  Suárez  Neuer  Gea  Lewandowski  Bale  \\\n",
       "0    SkySports        0      0       0      0    0            0     3   \n",
       "1  OneFootball        0      0       0      0    0            0     0   \n",
       "2        90min        0      7       0      0    0            0     0   \n",
       "3      newsnow        0      1       0      0    0            0     1   \n",
       "4    talksport        0      1       0      0    0            0     2   \n",
       "5     sbnation        0      0       0      0    0            0     0   \n",
       "\n",
       "   Ibrahimović  Courtois  ...  Hornby  Sargeant  Alzate  Dalby  Clifton  \\\n",
       "0            0         0  ...       0         0       0      0        0   \n",
       "1            0         0  ...       0         0       0      0        0   \n",
       "2            0         0  ...       0         0       0      0        0   \n",
       "3            0         0  ...       0         0       0      0        0   \n",
       "4            0         0  ...       0         0       0      0        0   \n",
       "5            0         0  ...       0         0       0      0        0   \n",
       "\n",
       "   McElhinney  Dunbar  McGoey  Ouldridge  Foden  \n",
       "0           0       0       0          0      0  \n",
       "1           0       0       0          0      0  \n",
       "2           0       0       0          0      0  \n",
       "3           0       0       0          0      0  \n",
       "4           0       0       0          0      0  \n",
       "5           0       0       0          0      0  \n",
       "\n",
       "[6 rows x 11632 columns]"
      ]
     },
     "execution_count": 28,
     "metadata": {},
     "output_type": "execute_result"
    }
   ],
   "source": [
    "df = pd.DataFrame({'Site':list(urls.keys())})\n",
    "# players =\n",
    "for i in range(len(players)):\n",
    "    df.insert(loc=i+1, column=players[i], value=[len([m for m in re.finditer(players[i], html.text)]) for html in sites])\n",
    "df"
   ]
  },
  {
   "cell_type": "markdown",
   "metadata": {},
   "source": [
    "### Find the sum of number of occurences of each players names across the 6 sites"
   ]
  },
  {
   "cell_type": "code",
   "execution_count": 29,
   "metadata": {},
   "outputs": [],
   "source": [
    "sums = df.sum(axis=0)\n",
    "sums = sums[sums != 0]\n",
    "sums = sums.drop(labels='Site')\n",
    "sums = sums.sort_values(ascending=False)"
   ]
  },
  {
   "cell_type": "markdown",
   "metadata": {},
   "source": [
    "### Filter out short names/prefixes"
   ]
  },
  {
   "cell_type": "code",
   "execution_count": 30,
   "metadata": {},
   "outputs": [
    {
     "name": "stdout",
     "output_type": "stream",
     "text": [
      "N.           870\n",
      "ter          864\n",
      "Le           176\n",
      "Nam          172\n",
      "Ba           147\n",
      "            ... \n",
      "Kingsley       1\n",
      "Gallagher      1\n",
      "Ui             1\n",
      "Eagles         1\n",
      "Neill          1\n",
      "Length: 349, dtype: object\n"
     ]
    }
   ],
   "source": [
    "sums = sums[5:]\n",
    "print(sums)"
   ]
  },
  {
   "cell_type": "markdown",
   "metadata": {},
   "source": [
    "### Read in data file detailing player name, market value, and transfer fee"
   ]
  },
  {
   "cell_type": "code",
   "execution_count": 31,
   "metadata": {},
   "outputs": [
    {
     "data": {
      "text/html": [
       "<div>\n",
       "<style scoped>\n",
       "    .dataframe tbody tr th:only-of-type {\n",
       "        vertical-align: middle;\n",
       "    }\n",
       "\n",
       "    .dataframe tbody tr th {\n",
       "        vertical-align: top;\n",
       "    }\n",
       "\n",
       "    .dataframe thead th {\n",
       "        text-align: right;\n",
       "    }\n",
       "</style>\n",
       "<table border=\"1\" class=\"dataframe\">\n",
       "  <thead>\n",
       "    <tr style=\"text-align: right;\">\n",
       "      <th></th>\n",
       "      <th>name</th>\n",
       "      <th>age</th>\n",
       "      <th>value</th>\n",
       "      <th>fee</th>\n",
       "    </tr>\n",
       "  </thead>\n",
       "  <tbody>\n",
       "    <tr>\n",
       "      <th>0</th>\n",
       "      <td>Christian Eriksen</td>\n",
       "      <td>27</td>\n",
       "      <td>81.0</td>\n",
       "      <td>18.0</td>\n",
       "    </tr>\n",
       "    <tr>\n",
       "      <th>1</th>\n",
       "      <td>Bruno Fernandes</td>\n",
       "      <td>25</td>\n",
       "      <td>54.0</td>\n",
       "      <td>49.5</td>\n",
       "    </tr>\n",
       "    <tr>\n",
       "      <th>2</th>\n",
       "      <td>Erling Haaland</td>\n",
       "      <td>19</td>\n",
       "      <td>40.5</td>\n",
       "      <td>18.0</td>\n",
       "    </tr>\n",
       "    <tr>\n",
       "      <th>3</th>\n",
       "      <td>Duván Zapata</td>\n",
       "      <td>28</td>\n",
       "      <td>40.5</td>\n",
       "      <td>10.8</td>\n",
       "    </tr>\n",
       "    <tr>\n",
       "      <th>4</th>\n",
       "      <td>Paco Alcácer</td>\n",
       "      <td>26</td>\n",
       "      <td>37.8</td>\n",
       "      <td>20.7</td>\n",
       "    </tr>\n",
       "  </tbody>\n",
       "</table>\n",
       "</div>"
      ],
      "text/plain": [
       "                name  age  value   fee\n",
       "0  Christian Eriksen   27   81.0  18.0\n",
       "1    Bruno Fernandes   25   54.0  49.5\n",
       "2     Erling Haaland   19   40.5  18.0\n",
       "3       Duván Zapata   28   40.5  10.8\n",
       "4       Paco Alcácer   26   37.8  20.7"
      ]
     },
     "execution_count": 31,
     "metadata": {},
     "output_type": "execute_result"
    }
   ],
   "source": [
    "df_confirmed = df_final\n",
    "df_confirmed.head()"
   ]
  },
  {
   "cell_type": "markdown",
   "metadata": {},
   "source": [
    "### Clean data to split into first and last name"
   ]
  },
  {
   "cell_type": "code",
   "execution_count": 32,
   "metadata": {},
   "outputs": [
    {
     "name": "stdout",
     "output_type": "stream",
     "text": [
      "<class 'pandas.core.series.Series'>\n"
     ]
    }
   ],
   "source": [
    "df_names_confirmed = df_confirmed['name'].str.split(pat=' ',expand=True)\n",
    "df_last = df_names_confirmed[1]\n",
    "print(type(df_last))\n"
   ]
  },
  {
   "cell_type": "markdown",
   "metadata": {},
   "source": [
    "### Continue cleaning the data by dropping duplicates and converting into a list to be used for web scraping"
   ]
  },
  {
   "cell_type": "code",
   "execution_count": 33,
   "metadata": {},
   "outputs": [
    {
     "name": "stdout",
     "output_type": "stream",
     "text": [
      "['Eriksen', 'Fernandes', 'Haaland', 'Zapata', 'Alcácer', 'Kulusevski', 'Olmo', 'Bergwijn', 'Piatek', 'Can', 'Politano', 'Palacios', 'Tousart', 'Weigl', 'Barbosa', 'Berge', 'Bowen', 'Pedro', 'de', 'Cutrone', 'Lobotka', 'En-Nesyri', 'Guimarães', 'Rose', 'Amrabat', 'Podence', 'Lazaro', 'Tchouaméni', 'Petagna', 'Cunha', 'Tapsoba', 'Toko', 'Demme', 'Fofana', 'Rrahmani', 'Minamino', 'Dabbur', 'Murillo', 'Samatta', 'Kadewere', 'Mooy', 'Bruun', 'Cavaleiro', 'Okafor', 'Ascacíbar', 'Oudin', 'Pavlovic', 'Onyekuru', 'Saracchi', 'Vogt', 'Rodríguez']\n"
     ]
    }
   ],
   "source": [
    "df_last = df_last.drop_duplicates()\n",
    "players = df_last.to_list()\n",
    "players = [i for i in players if i]\n",
    "print(players)"
   ]
  },
  {
   "cell_type": "markdown",
   "metadata": {},
   "source": [
    "# Change URLs to be the home soccer page instead of transfers\n",
    "   ### If you want to see transfers then run URLs above with the rest of the code below"
   ]
  },
  {
   "cell_type": "code",
   "execution_count": 34,
   "metadata": {},
   "outputs": [
    {
     "data": {
      "text/plain": [
       "b'<!doctype html>\\n<html lang=\"en\" class=\"no-js\">\\n<head>\\n\\n    <meta charset=\"utf-8\">\\n    <title>Football News | Sky Sports</title>\\n'"
      ]
     },
     "execution_count": 34,
     "metadata": {},
     "output_type": "execute_result"
    }
   ],
   "source": [
    "urls = {\n",
    "    'SkySports':'https://www.skysports.com/football/news',\n",
    "    'OneFootball':'https://en.onefootball.com',\n",
    "    '90min':'https://www.90min.com',\n",
    "    'newsnow':'https://www.newsnow.co.uk/h/Sport/Football',\n",
    "    'talksport':'https://talksport.com/football/',\n",
    "    'sbnation':'https://www.sbnation.com/soccer'\n",
    "}\n",
    "\n",
    "sites = [requests.get(url) for url in urls.values()]\n",
    "list(sites[0])[0]"
   ]
  },
  {
   "cell_type": "markdown",
   "metadata": {},
   "source": [
    "## Scrape the homepages for player name occurances"
   ]
  },
  {
   "cell_type": "code",
   "execution_count": 35,
   "metadata": {},
   "outputs": [
    {
     "data": {
      "text/html": [
       "<div>\n",
       "<style scoped>\n",
       "    .dataframe tbody tr th:only-of-type {\n",
       "        vertical-align: middle;\n",
       "    }\n",
       "\n",
       "    .dataframe tbody tr th {\n",
       "        vertical-align: top;\n",
       "    }\n",
       "\n",
       "    .dataframe thead th {\n",
       "        text-align: right;\n",
       "    }\n",
       "</style>\n",
       "<table border=\"1\" class=\"dataframe\">\n",
       "  <thead>\n",
       "    <tr style=\"text-align: right;\">\n",
       "      <th></th>\n",
       "      <th>Site</th>\n",
       "      <th>Eriksen</th>\n",
       "      <th>Fernandes</th>\n",
       "      <th>Haaland</th>\n",
       "      <th>Zapata</th>\n",
       "      <th>Alcácer</th>\n",
       "      <th>Kulusevski</th>\n",
       "      <th>Olmo</th>\n",
       "      <th>Bergwijn</th>\n",
       "      <th>Piatek</th>\n",
       "      <th>...</th>\n",
       "      <th>Bruun</th>\n",
       "      <th>Cavaleiro</th>\n",
       "      <th>Okafor</th>\n",
       "      <th>Ascacíbar</th>\n",
       "      <th>Oudin</th>\n",
       "      <th>Pavlovic</th>\n",
       "      <th>Onyekuru</th>\n",
       "      <th>Saracchi</th>\n",
       "      <th>Vogt</th>\n",
       "      <th>Rodríguez</th>\n",
       "    </tr>\n",
       "  </thead>\n",
       "  <tbody>\n",
       "    <tr>\n",
       "      <th>0</th>\n",
       "      <td>SkySports</td>\n",
       "      <td>4</td>\n",
       "      <td>2</td>\n",
       "      <td>0</td>\n",
       "      <td>0</td>\n",
       "      <td>0</td>\n",
       "      <td>0</td>\n",
       "      <td>0</td>\n",
       "      <td>0</td>\n",
       "      <td>0</td>\n",
       "      <td>...</td>\n",
       "      <td>0</td>\n",
       "      <td>0</td>\n",
       "      <td>0</td>\n",
       "      <td>0</td>\n",
       "      <td>0</td>\n",
       "      <td>0</td>\n",
       "      <td>0</td>\n",
       "      <td>0</td>\n",
       "      <td>0</td>\n",
       "      <td>0</td>\n",
       "    </tr>\n",
       "    <tr>\n",
       "      <th>1</th>\n",
       "      <td>OneFootball</td>\n",
       "      <td>0</td>\n",
       "      <td>0</td>\n",
       "      <td>0</td>\n",
       "      <td>0</td>\n",
       "      <td>0</td>\n",
       "      <td>0</td>\n",
       "      <td>0</td>\n",
       "      <td>0</td>\n",
       "      <td>0</td>\n",
       "      <td>...</td>\n",
       "      <td>0</td>\n",
       "      <td>0</td>\n",
       "      <td>0</td>\n",
       "      <td>0</td>\n",
       "      <td>0</td>\n",
       "      <td>0</td>\n",
       "      <td>0</td>\n",
       "      <td>0</td>\n",
       "      <td>0</td>\n",
       "      <td>0</td>\n",
       "    </tr>\n",
       "    <tr>\n",
       "      <th>2</th>\n",
       "      <td>90min</td>\n",
       "      <td>0</td>\n",
       "      <td>0</td>\n",
       "      <td>0</td>\n",
       "      <td>0</td>\n",
       "      <td>0</td>\n",
       "      <td>0</td>\n",
       "      <td>0</td>\n",
       "      <td>0</td>\n",
       "      <td>0</td>\n",
       "      <td>...</td>\n",
       "      <td>0</td>\n",
       "      <td>0</td>\n",
       "      <td>0</td>\n",
       "      <td>0</td>\n",
       "      <td>0</td>\n",
       "      <td>0</td>\n",
       "      <td>0</td>\n",
       "      <td>0</td>\n",
       "      <td>0</td>\n",
       "      <td>0</td>\n",
       "    </tr>\n",
       "    <tr>\n",
       "      <th>3</th>\n",
       "      <td>newsnow</td>\n",
       "      <td>12</td>\n",
       "      <td>2</td>\n",
       "      <td>0</td>\n",
       "      <td>0</td>\n",
       "      <td>0</td>\n",
       "      <td>0</td>\n",
       "      <td>0</td>\n",
       "      <td>0</td>\n",
       "      <td>0</td>\n",
       "      <td>...</td>\n",
       "      <td>0</td>\n",
       "      <td>0</td>\n",
       "      <td>0</td>\n",
       "      <td>0</td>\n",
       "      <td>0</td>\n",
       "      <td>0</td>\n",
       "      <td>0</td>\n",
       "      <td>0</td>\n",
       "      <td>0</td>\n",
       "      <td>0</td>\n",
       "    </tr>\n",
       "    <tr>\n",
       "      <th>4</th>\n",
       "      <td>talksport</td>\n",
       "      <td>0</td>\n",
       "      <td>0</td>\n",
       "      <td>0</td>\n",
       "      <td>0</td>\n",
       "      <td>0</td>\n",
       "      <td>0</td>\n",
       "      <td>0</td>\n",
       "      <td>1</td>\n",
       "      <td>0</td>\n",
       "      <td>...</td>\n",
       "      <td>0</td>\n",
       "      <td>0</td>\n",
       "      <td>0</td>\n",
       "      <td>0</td>\n",
       "      <td>0</td>\n",
       "      <td>0</td>\n",
       "      <td>0</td>\n",
       "      <td>0</td>\n",
       "      <td>0</td>\n",
       "      <td>0</td>\n",
       "    </tr>\n",
       "    <tr>\n",
       "      <th>5</th>\n",
       "      <td>sbnation</td>\n",
       "      <td>0</td>\n",
       "      <td>3</td>\n",
       "      <td>1</td>\n",
       "      <td>0</td>\n",
       "      <td>0</td>\n",
       "      <td>0</td>\n",
       "      <td>0</td>\n",
       "      <td>0</td>\n",
       "      <td>0</td>\n",
       "      <td>...</td>\n",
       "      <td>0</td>\n",
       "      <td>0</td>\n",
       "      <td>0</td>\n",
       "      <td>0</td>\n",
       "      <td>0</td>\n",
       "      <td>0</td>\n",
       "      <td>0</td>\n",
       "      <td>0</td>\n",
       "      <td>0</td>\n",
       "      <td>0</td>\n",
       "    </tr>\n",
       "  </tbody>\n",
       "</table>\n",
       "<p>6 rows × 52 columns</p>\n",
       "</div>"
      ],
      "text/plain": [
       "          Site  Eriksen  Fernandes  Haaland  Zapata  Alcácer  Kulusevski  \\\n",
       "0    SkySports        4          2        0       0        0           0   \n",
       "1  OneFootball        0          0        0       0        0           0   \n",
       "2        90min        0          0        0       0        0           0   \n",
       "3      newsnow       12          2        0       0        0           0   \n",
       "4    talksport        0          0        0       0        0           0   \n",
       "5     sbnation        0          3        1       0        0           0   \n",
       "\n",
       "   Olmo  Bergwijn  Piatek  ...  Bruun  Cavaleiro  Okafor  Ascacíbar  Oudin  \\\n",
       "0     0         0       0  ...      0          0       0          0      0   \n",
       "1     0         0       0  ...      0          0       0          0      0   \n",
       "2     0         0       0  ...      0          0       0          0      0   \n",
       "3     0         0       0  ...      0          0       0          0      0   \n",
       "4     0         1       0  ...      0          0       0          0      0   \n",
       "5     0         0       0  ...      0          0       0          0      0   \n",
       "\n",
       "   Pavlovic  Onyekuru  Saracchi  Vogt  Rodríguez  \n",
       "0         0         0         0     0          0  \n",
       "1         0         0         0     0          0  \n",
       "2         0         0         0     0          0  \n",
       "3         0         0         0     0          0  \n",
       "4         0         0         0     0          0  \n",
       "5         0         0         0     0          0  \n",
       "\n",
       "[6 rows x 52 columns]"
      ]
     },
     "execution_count": 35,
     "metadata": {},
     "output_type": "execute_result"
    }
   ],
   "source": [
    "df = pd.DataFrame({'Site':list(urls.keys())})\n",
    "# players =\n",
    "for i in range(len(players)):\n",
    "    df.insert(i+1, players[i], [len([m for m in re.finditer(players[i], html.text)]) for html in sites])\n",
    "df"
   ]
  },
  {
   "cell_type": "markdown",
   "metadata": {},
   "source": [
    "## Do the sums again"
   ]
  },
  {
   "cell_type": "code",
   "execution_count": 36,
   "metadata": {},
   "outputs": [],
   "source": [
    "sums = df.sum(axis=0)\n",
    "sums = sums[sums != 0]\n",
    "sums = sums.drop(labels='Site')\n",
    "sums = sums.drop(labels='de')\n",
    "sums = sums.sort_values(ascending=False)"
   ]
  },
  {
   "cell_type": "code",
   "execution_count": 37,
   "metadata": {},
   "outputs": [
    {
     "name": "stdout",
     "output_type": "stream",
     "text": [
      "Eriksen      16\n",
      "Can          10\n",
      "Fernandes     7\n",
      "Bergwijn      1\n",
      "Haaland       1\n",
      "dtype: object\n"
     ]
    }
   ],
   "source": [
    "print(sums)"
   ]
  }
 ],
 "metadata": {
  "kernelspec": {
   "display_name": "Python 3",
   "language": "python",
   "name": "python3"
  },
  "language_info": {
   "codemirror_mode": {
    "name": "ipython",
    "version": 3
   },
   "file_extension": ".py",
   "mimetype": "text/x-python",
   "name": "python",
   "nbconvert_exporter": "python",
   "pygments_lexer": "ipython3",
   "version": "3.7.2"
  }
 },
 "nbformat": 4,
 "nbformat_minor": 2
}
